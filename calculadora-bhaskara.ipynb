{
 "cells": [
  {
   "cell_type": "code",
   "execution_count": null,
   "id": "6b230b10-58b1-41e5-b8a8-2235ab6f693b",
   "metadata": {},
   "outputs": [
    {
     "name": "stdout",
     "output_type": "stream",
     "text": [
      "Equação do 2º grau da forma: ax² + bx + c\n"
     ]
    },
    {
     "name": "stdin",
     "output_type": "stream",
     "text": [
      "\n",
      "Coeficiente a:  1\n"
     ]
    }
   ],
   "source": [
    "print ('Equação do 2º grau da forma: ax² + bx + c')\n",
    "a = int( input('\\nCoeficiente a: '))\n",
    "if a == 0:\n",
    "    print('Se a = 0, não é equação do segundo grau.\\nPrograma encerrado.')\n",
    "else:\n",
    "    b = int( input('Coeficiente b: '))\n",
    "    c = int( input('Coeficiente c: '))\n",
    "    b2 = b*b\n",
    "    ac4 = 4*a*c\n",
    "    a2 = a*2\n",
    "    d = b2 - 4*a*c\n",
    "    print(f'\\ndelta = {b}² - 4 . {a} . {c}')\n",
    "    print(f'delta = {b2} - 4 . {a} . {c}')\n",
    "    print(f'delta = {b2} - {ac4}')\n",
    "    print(f'delta = {d}')\n",
    "\n",
    "    if d < 0:\n",
    "        print ('Delta é menor que 0 então temos raizes imaginárias.\\nS = { }')\n",
    "    elif d == 0:\n",
    "        x = -b / (2*a)\n",
    "        print (f'x = -({b}) +- √{d} / (2*{a})')\n",
    "        print (f'x = -({b}) / (2*{a})')\n",
    "        print (f'x = -({b}) / {a2}')\n",
    "        print (f'x = {x}')\n",
    "        print (f'S = ({x})')\n",
    "    else:     \n",
    "        rd = d**0.5 \n",
    "        brd = (-1*b)+rd\n",
    "        brc = (-1*b)-rd\n",
    "        x1 = (-b + d**0.5) / (2*a)\n",
    "        x2 = (-b - d**0.5) / (2*a)\n",
    "\n",
    "        print (f'\\nx = -(b) +- √delta / (2 . a)')\n",
    "        print (f'x = -({b}) +- √({d}) / (2 . {a})')\n",
    "        print (f'x = -({b}) +- {rd} / {a2}')\n",
    "\n",
    "        print (f'\\nx1 = -({b}) + {rd} / {a2}')\n",
    "        print (f'x1 = {brd} / {a2}')\n",
    "        print (f'x1 = {x1}')\n",
    "\n",
    "        print (f'\\nx2 = -({b}) - {rd} / {a2}')\n",
    "        print (f'x2 = {brc} / {a2}')\n",
    "        print (f'x2 = {x2}')\n",
    "    \n",
    "\n",
    "        print (f'S = ({x1}, {x2})')\n",
    "\n",
    "        print ('\\nCalculando os vértices da parábola...')\n",
    "\n",
    "        xv = (-b) / (2*a)\n",
    "        yv = (-d) / (4*a)\n",
    "\n",
    "        print (f'\\nxv = (-{b}) / (2x{a})\\nyv = (-{d}) / (4x{a})')\n",
    "        print (f'\\nxv = {xv}\\nyv = {yv}')"
   ]
  },
  {
   "cell_type": "code",
   "execution_count": null,
   "id": "6721e89d-facf-4063-aaf5-21c6796cb87a",
   "metadata": {},
   "outputs": [],
   "source": []
  }
 ],
 "metadata": {
  "kernelspec": {
   "display_name": "Python 3 (ipykernel)",
   "language": "python",
   "name": "python3"
  },
  "language_info": {
   "codemirror_mode": {
    "name": "ipython",
    "version": 3
   },
   "file_extension": ".py",
   "mimetype": "text/x-python",
   "name": "python",
   "nbconvert_exporter": "python",
   "pygments_lexer": "ipython3",
   "version": "3.11.5"
  }
 },
 "nbformat": 4,
 "nbformat_minor": 5
}
